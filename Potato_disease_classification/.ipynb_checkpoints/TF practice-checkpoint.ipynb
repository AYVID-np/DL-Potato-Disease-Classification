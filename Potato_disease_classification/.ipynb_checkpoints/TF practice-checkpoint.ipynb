{
 "cells": [
  {
   "cell_type": "code",
   "execution_count": 1,
   "id": "4326f6f5",
   "metadata": {},
   "outputs": [],
   "source": [
    "import tensorflow as tf"
   ]
  },
  {
   "cell_type": "code",
   "execution_count": 2,
   "id": "3487aa21",
   "metadata": {},
   "outputs": [],
   "source": [
    "daily_sales_numbers= [21,22,-108,31]"
   ]
  },
  {
   "cell_type": "code",
   "execution_count": 5,
   "id": "933b5cae",
   "metadata": {},
   "outputs": [],
   "source": [
    "dataset = tf.data.Dataset.from_tensor_slices(daily_sales_numbers)"
   ]
  },
  {
   "cell_type": "code",
   "execution_count": 6,
   "id": "de475baa",
   "metadata": {},
   "outputs": [
    {
     "name": "stdout",
     "output_type": "stream",
     "text": [
      "tf.Tensor(21, shape=(), dtype=int32)\n",
      "tf.Tensor(22, shape=(), dtype=int32)\n",
      "tf.Tensor(-108, shape=(), dtype=int32)\n",
      "tf.Tensor(31, shape=(), dtype=int32)\n"
     ]
    }
   ],
   "source": [
    "for element in dataset:\n",
    "    print(element)"
   ]
  },
  {
   "cell_type": "code",
   "execution_count": 10,
   "id": "5141a7ed",
   "metadata": {},
   "outputs": [
    {
     "name": "stdout",
     "output_type": "stream",
     "text": [
      "21\n",
      "22\n",
      "-108\n",
      "31\n"
     ]
    }
   ],
   "source": [
    "for element in dataset.as_numpy_iterator():\n",
    "    print(element)"
   ]
  },
  {
   "cell_type": "code",
   "execution_count": 12,
   "id": "6241112a",
   "metadata": {},
   "outputs": [
    {
     "name": "stdout",
     "output_type": "stream",
     "text": [
      "21\n",
      "22\n",
      "-108\n"
     ]
    }
   ],
   "source": [
    "for element in dataset.take(3):\n",
    "    print(element.numpy())"
   ]
  },
  {
   "cell_type": "code",
   "execution_count": 14,
   "id": "3bcdac2e",
   "metadata": {},
   "outputs": [
    {
     "name": "stdout",
     "output_type": "stream",
     "text": [
      "21\n",
      "22\n",
      "31\n"
     ]
    }
   ],
   "source": [
    "# filter \n",
    "\n",
    "dataset_filter = dataset.filter(lambda x: x>0)\n",
    "\n",
    "for filter in dataset_filter.take(3):\n",
    "    print(filter.numpy())"
   ]
  },
  {
   "cell_type": "code",
   "execution_count": 15,
   "id": "8d379360",
   "metadata": {},
   "outputs": [
    {
     "name": "stdout",
     "output_type": "stream",
     "text": [
      "210\n",
      "220\n",
      "310\n"
     ]
    }
   ],
   "source": [
    "scaled_dataset = dataset_filter.map(lambda x: x*10)\n",
    "\n",
    "for scaled in scaled_dataset.as_numpy_iterator():\n",
    "    print(scaled)\n"
   ]
  },
  {
   "cell_type": "code",
   "execution_count": 18,
   "id": "4441b644",
   "metadata": {},
   "outputs": [
    {
     "name": "stdout",
     "output_type": "stream",
     "text": [
      "210\n",
      "310\n",
      "220\n"
     ]
    }
   ],
   "source": [
    "shuffled_dataset= scaled_dataset.shuffle(2)\n",
    "\n",
    "for shuf in shuffled_dataset.as_numpy_iterator():\n",
    "    print(shuf)"
   ]
  },
  {
   "cell_type": "code",
   "execution_count": 22,
   "id": "d174af54",
   "metadata": {},
   "outputs": [
    {
     "name": "stdout",
     "output_type": "stream",
     "text": [
      "[  21   22 -108]\n",
      "[31]\n"
     ]
    }
   ],
   "source": [
    "for bat in dataset.batch(3):\n",
    "    print(bat.numpy())"
   ]
  },
  {
   "cell_type": "code",
   "execution_count": null,
   "id": "a968f322",
   "metadata": {},
   "outputs": [],
   "source": [
    "## Tensorflow Input pipeline"
   ]
  },
  {
   "cell_type": "code",
   "execution_count": 24,
   "id": "01d958ed",
   "metadata": {},
   "outputs": [],
   "source": [
    "## overall\n",
    "\n",
    "tf_dataset = tf.data.Dataset.from_tensor_slices(daily_sales_numbers)\n",
    "\n",
    "n_dataset = tf_dataset.filter(lambda x: x>0).map(lambda y: y*10).shuffle(2).batch(2)"
   ]
  },
  {
   "cell_type": "code",
   "execution_count": 25,
   "id": "5df62b85",
   "metadata": {},
   "outputs": [
    {
     "name": "stdout",
     "output_type": "stream",
     "text": [
      "[220 310]\n",
      "[210]\n"
     ]
    }
   ],
   "source": [
    "for tf_elem in n_dataset.as_numpy_iterator():\n",
    "    print(tf_elem)"
   ]
  },
  {
   "cell_type": "code",
   "execution_count": null,
   "id": "01aa4208",
   "metadata": {},
   "outputs": [],
   "source": []
  }
 ],
 "metadata": {
  "kernelspec": {
   "display_name": "Python 3 (ipykernel)",
   "language": "python",
   "name": "python3"
  },
  "language_info": {
   "codemirror_mode": {
    "name": "ipython",
    "version": 3
   },
   "file_extension": ".py",
   "mimetype": "text/x-python",
   "name": "python",
   "nbconvert_exporter": "python",
   "pygments_lexer": "ipython3",
   "version": "3.11.3"
  },
  "varInspector": {
   "cols": {
    "lenName": 16,
    "lenType": 16,
    "lenVar": 40
   },
   "kernels_config": {
    "python": {
     "delete_cmd_postfix": "",
     "delete_cmd_prefix": "del ",
     "library": "var_list.py",
     "varRefreshCmd": "print(var_dic_list())"
    },
    "r": {
     "delete_cmd_postfix": ") ",
     "delete_cmd_prefix": "rm(",
     "library": "var_list.r",
     "varRefreshCmd": "cat(var_dic_list()) "
    }
   },
   "types_to_exclude": [
    "module",
    "function",
    "builtin_function_or_method",
    "instance",
    "_Feature"
   ],
   "window_display": false
  }
 },
 "nbformat": 4,
 "nbformat_minor": 5
}
